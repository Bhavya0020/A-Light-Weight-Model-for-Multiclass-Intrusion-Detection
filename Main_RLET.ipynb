{
 "cells": [
  {
   "cell_type": "markdown",
   "id": "7716d105-cf80-4679-a4f3-82046a01545a",
   "metadata": {
    "tags": []
   },
   "source": [
    "# Data Loading From arff files"
   ]
  },
  {
   "cell_type": "code",
   "execution_count": 52,
   "id": "bd88a963-d2e8-4947-a9e4-e54c326e2ea9",
   "metadata": {},
   "outputs": [],
   "source": [
    "# !pip install category-encoders\n",
    "# https://www.kaggle.com/lordozvlad/introduction-to-scikit-learn-intelex"
   ]
  },
  {
   "cell_type": "code",
   "execution_count": 53,
   "id": "99aee291-2173-445e-9b50-5db762d76e1b",
   "metadata": {},
   "outputs": [],
   "source": [
    "# !pip install sklearn"
   ]
  },
  {
   "cell_type": "code",
   "execution_count": 54,
   "id": "5aa36df9-8157-4a1e-9b42-7b96e361b85a",
   "metadata": {},
   "outputs": [
    {
     "name": "stdout",
     "output_type": "stream",
     "text": [
      "CPU times: user 2 µs, sys: 1e+03 ns, total: 3 µs\n",
      "Wall time: 5.48 µs\n"
     ]
    }
   ],
   "source": [
    "%time\n",
    "from scipy.io import arff\n",
    "import pandas as pd\n",
    "import urllib.request\n",
    "from io import StringIO, BytesIO\n",
    "import copy\n",
    "from sklearn import metrics\n",
    "from sklearn import preprocessing\n",
    "from sklearn.metrics import roc_auc_score\n",
    "import numpy as np\n",
    "import warnings\n",
    "pd.set_option('display.max_rows', None)\n",
    "pd.set_option('display.max_columns', None)\n",
    "pd.set_option('float_format', '{:f}'.format)\n",
    "warnings.filterwarnings('ignore')\n",
    "from sklearn.model_selection import StratifiedKFold, cross_val_score\n",
    "from category_encoders.target_encoder import TargetEncoder\n",
    "\n",
    "path = 'http://www.ece.uah.edu/~thm0009/icsdatasets/10_water_final.arff'\n",
    "url = urllib.request.urlopen(path)\n",
    "data, meta = arff.loadarff(StringIO(url.read().decode('utf-8')))\n",
    "df = pd.DataFrame(data)\n",
    "# df.head()"
   ]
  },
  {
   "cell_type": "code",
   "execution_count": 55,
   "id": "a9fa5d88-8d1f-4eb7-b702-56dd5bc6291f",
   "metadata": {},
   "outputs": [],
   "source": [
    "import matplotlib.pyplot as plt\n",
    "import seaborn as sns\n",
    "plt.rcParams['font.family'] = 'DeJavu Serif'\n",
    "plt.rcParams['font.serif'] = ['Times New Roman']"
   ]
  },
  {
   "cell_type": "markdown",
   "id": "d43bf122-cc27-4916-b195-a62ceae18ca0",
   "metadata": {},
   "source": [
    "## Memory Optimizer"
   ]
  },
  {
   "cell_type": "code",
   "execution_count": 56,
   "id": "17be99cd-f9b8-4f01-957c-39966aec6ed4",
   "metadata": {},
   "outputs": [],
   "source": [
    "def reduce_mem_usage(df):\n",
    "    \"\"\" iterate through all the columns of a dataframe and modify the data type\n",
    "        to reduce memory usage.        \n",
    "    \"\"\"\n",
    "    start_mem = df.memory_usage().sum() / 1024**2\n",
    "    print('Memory usage of dataframe is {:.2f} MB'.format(start_mem))\n",
    "    \n",
    "    for col in df.columns:\n",
    "        col_type = df[col].dtype\n",
    "        if col == 'time':\n",
    "            df[col] = df[col].astype(np.float32)\n",
    "            continue\n",
    "        if col_type != object:\n",
    "            c_min = df[col].min()\n",
    "            c_max = df[col].max()\n",
    "            if str(col_type)[:3] == 'int':\n",
    "                if c_min > np.iinfo(np.int8).min and c_max < np.iinfo(np.int8).max:\n",
    "                    df[col] = df[col].astype(np.int8)\n",
    "                elif c_min > np.iinfo(np.int16).min and c_max < np.iinfo(np.int16).max:\n",
    "                    df[col] = df[col].astype(np.int16)\n",
    "                elif c_min > np.iinfo(np.int32).min and c_max < np.iinfo(np.int32).max:\n",
    "                    df[col] = df[col].astype(np.int32)\n",
    "                elif c_min > np.iinfo(np.int64).min and c_max < np.iinfo(np.int64).max:\n",
    "                    df[col] = df[col].astype(np.int64)  \n",
    "            else:\n",
    "                if c_min > np.finfo(np.float16).min and c_max < np.finfo(np.float16).max:\n",
    "                    df[col] = df[col].astype(np.float16)\n",
    "                elif c_min > np.finfo(np.float32).min and c_max < np.finfo(np.float32).max:\n",
    "                    df[col] = df[col].astype(np.float32)\n",
    "                else:\n",
    "                    df[col] = df[col].astype(np.float64)\n",
    "        else:\n",
    "            df[col] = df[col].astype('category')\n",
    "\n",
    "    end_mem = df.memory_usage().sum() / 1024**2\n",
    "    print('Memory usage after optimization is: {:.2f} MB'.format(end_mem))\n",
    "    print('Decreased by {:.1f}%'.format(100 * (start_mem - end_mem) / start_mem))\n",
    "    \n",
    "    return df"
   ]
  },
  {
   "cell_type": "code",
   "execution_count": 57,
   "id": "db04a9fb-2242-41e6-aaea-20ac1e7793c1",
   "metadata": {},
   "outputs": [
    {
     "name": "stdout",
     "output_type": "stream",
     "text": [
      "Memory usage of dataframe is 4.98 MB\n",
      "Memory usage after optimization is: 1.32 MB\n",
      "Decreased by 73.4%\n"
     ]
    }
   ],
   "source": [
    "df = reduce_mem_usage(df)"
   ]
  },
  {
   "cell_type": "code",
   "execution_count": 58,
   "id": "b8a8af92-6d2f-4229-972a-754a79f70737",
   "metadata": {},
   "outputs": [],
   "source": [
    "# df.head()"
   ]
  },
  {
   "cell_type": "markdown",
   "id": "302c1883-64e8-4797-81ac-00c42519551a",
   "metadata": {},
   "source": [
    "## Convert Object to int"
   ]
  },
  {
   "cell_type": "code",
   "execution_count": 59,
   "id": "2261fabd-294e-48fb-a03b-eda1ee5929e0",
   "metadata": {},
   "outputs": [],
   "source": [
    "# make target int type\n",
    "df['result']= df['result'].replace(b'0',0)\n",
    "df['result']= df['result'].replace(b'1',1)\n",
    "df['result']= df['result'].replace(b'2',2)\n",
    "df['result']= df['result'].replace(b'3',3)\n",
    "df['result']= df['result'].replace(b'4',4)\n",
    "df['result']= df['result'].replace(b'5',5)\n",
    "df['result']= df['result'].replace(b'6',6)\n",
    "df['result']= df['result'].replace(b'7',7)"
   ]
  },
  {
   "cell_type": "code",
   "execution_count": 60,
   "id": "1e3c405a-0592-4984-8310-a12d15aebc50",
   "metadata": {},
   "outputs": [],
   "source": [
    "df['result'] = df['result'].astype('int64')"
   ]
  },
  {
   "cell_type": "code",
   "execution_count": 61,
   "id": "ef3ffd17-2826-4195-876b-36b82f1cc544",
   "metadata": {},
   "outputs": [
    {
     "data": {
      "text/plain": [
       "24"
      ]
     },
     "execution_count": 61,
     "metadata": {},
     "output_type": "execute_result"
    }
   ],
   "source": [
    "len(df.columns)"
   ]
  },
  {
   "cell_type": "markdown",
   "id": "408918e5-8802-46c3-80cf-a8f2dc0ff137",
   "metadata": {},
   "source": [
    "# Features "
   ]
  },
  {
   "cell_type": "code",
   "execution_count": 62,
   "id": "e81d8a92-96f3-4f32-bc53-fe1028af660d",
   "metadata": {},
   "outputs": [],
   "source": [
    "# features selection\n",
    "features = []\n",
    "for col in df.columns:\n",
    "    if len(df[col].unique()) != 1 and col != 'result':\n",
    "        features.append(col)\n",
    "        # print(len(df[col].unique()), col)"
   ]
  },
  {
   "cell_type": "code",
   "execution_count": 63,
   "id": "b8bc91eb-c226-46ae-aa9f-810dc9538295",
   "metadata": {},
   "outputs": [
    {
     "data": {
      "text/plain": [
       "18"
      ]
     },
     "execution_count": 63,
     "metadata": {},
     "output_type": "execute_result"
    }
   ],
   "source": [
    "len(features)"
   ]
  },
  {
   "cell_type": "markdown",
   "id": "3639510f-8d10-4207-9cef-b6aeb782334e",
   "metadata": {},
   "source": [
    "### Categorical Features"
   ]
  },
  {
   "cell_type": "code",
   "execution_count": 64,
   "id": "35495642-8d23-498b-b3ac-2e8336a9cf70",
   "metadata": {},
   "outputs": [],
   "source": [
    "cat_cols = []\n",
    "for col in features:\n",
    "    if len(df[col].unique()) < 10:\n",
    "        cat_cols.append(col)\n"
   ]
  },
  {
   "cell_type": "markdown",
   "id": "d0b9be79-fff4-4e23-8a35-178b9167ca5b",
   "metadata": {},
   "source": [
    "### Numerical Features"
   ]
  },
  {
   "cell_type": "code",
   "execution_count": 65,
   "id": "1a1eebf9-54f3-4adc-9700-002925ff32a9",
   "metadata": {},
   "outputs": [],
   "source": [
    "num_cols = [col for col in features\n",
    "                   if col not in cat_cols]"
   ]
  },
  {
   "cell_type": "code",
   "execution_count": 66,
   "id": "b5fce115-592c-4a81-a478-ebc41b47963b",
   "metadata": {},
   "outputs": [
    {
     "data": {
      "text/plain": [
       "6"
      ]
     },
     "execution_count": 66,
     "metadata": {},
     "output_type": "execute_result"
    }
   ],
   "source": [
    "len(num_cols)"
   ]
  },
  {
   "cell_type": "code",
   "execution_count": 67,
   "id": "421b3735-0dd7-444f-88e5-d7aefd3e6a49",
   "metadata": {},
   "outputs": [
    {
     "data": {
      "text/plain": [
       "(27199, 24)"
      ]
     },
     "execution_count": 67,
     "metadata": {},
     "output_type": "execute_result"
    }
   ],
   "source": [
    "df.shape"
   ]
  },
  {
   "cell_type": "code",
   "execution_count": 68,
   "id": "7b33f14b-c3b2-40f9-8915-1966b1cc925a",
   "metadata": {},
   "outputs": [],
   "source": [
    "df = df[features+['result']]"
   ]
  },
  {
   "cell_type": "code",
   "execution_count": 69,
   "id": "5938a7c6-1a50-4dd5-9191-81755f851083",
   "metadata": {},
   "outputs": [
    {
     "data": {
      "text/plain": [
       "command_address            48\n",
       "response_address            2\n",
       "response_memory             2\n",
       "command_memory_count        2\n",
       "response_memory_count       2\n",
       "comm_write_fun              2\n",
       "resp_write_fun              2\n",
       "sub_function                2\n",
       "resp_length                 2\n",
       "HH                         43\n",
       "'H'                         5\n",
       "'L'                        25\n",
       "LL                        179\n",
       "control_mode                3\n",
       "pump                        2\n",
       "crc_rate                    2\n",
       "measurement              5267\n",
       "time                       31\n",
       "result                      8\n",
       "dtype: int64"
      ]
     },
     "execution_count": 69,
     "metadata": {},
     "output_type": "execute_result"
    }
   ],
   "source": [
    "df.nunique()"
   ]
  },
  {
   "cell_type": "code",
   "execution_count": 70,
   "id": "1f1ac67d-1b46-4a01-9ae3-8b562dad5ed6",
   "metadata": {},
   "outputs": [],
   "source": [
    "col=df.nunique().sort_values(ascending=False).index[0]"
   ]
  },
  {
   "cell_type": "code",
   "execution_count": 71,
   "id": "444f0673-f748-47e8-84b5-f2b8321b177b",
   "metadata": {},
   "outputs": [
    {
     "data": {
      "image/png": "[encoded data removed]",
      "text/plain": [
       "<Figure size 720x288 with 1 Axes>"
      ]
     },
     "metadata": {
      "needs_background": "light"
     },
     "output_type": "display_data"
    }
   ],
   "source": [
    "# Check label balance\n",
    "plt.figure(figsize=(10,4))\n",
    "sns.barplot(x=df.result.unique(), y=df.result.value_counts())\n",
    "plt.show()"
   ]
  },
  {
   "cell_type": "code",
   "execution_count": 72,
   "id": "64f78acd-0337-4770-abb7-573e3e8aeb91",
   "metadata": {},
   "outputs": [
    {
     "data": {
      "image/png": "[encoded data removed]",
      "text/plain": [
       "<Figure size 432x288 with 1 Axes>"
      ]
     },
     "metadata": {},
     "output_type": "display_data"
    }
   ],
   "source": [
    "# Categorical and numerical variable distribution\n",
    "plt.pie([len(cat_cols), len(num_cols)], \n",
    "        labels=['Categorical Features', 'Numerical Features'],\n",
    "        colors=['#F8766D', '#00BFC4'],\n",
    "        textprops={'fontsize': 13},\n",
    "        autopct='%1.1f%%')\n",
    "plt.title('Pie Chart showcasing Distribution of categorical and numerical features')\n",
    "plt.show()"
   ]
  },
  {
   "cell_type": "code",
   "execution_count": 73,
   "id": "10b4078e-43c8-4e45-97cf-49dc0dbb52cc",
   "metadata": {},
   "outputs": [
    {
     "data": {
      "text/plain": [
       "5267"
      ]
     },
     "execution_count": 73,
     "metadata": {},
     "output_type": "execute_result"
    }
   ],
   "source": [
    "len(df[col].unique())"
   ]
  },
  {
   "cell_type": "code",
   "execution_count": 74,
   "id": "d3197967-491d-4e97-84ec-5e84f83d846e",
   "metadata": {},
   "outputs": [],
   "source": [
    "# agg_features=df.groupby(['time'])[features].agg(['mean','min','max','sum','median'])\n",
    "\n",
    "# agg_features.columns=['_'.join(col) for col in agg_features.columns]\n",
    "# agg_features.reset_index(inplace=True)"
   ]
  },
  {
   "cell_type": "code",
   "execution_count": 75,
   "id": "5afa0cf7-d258-4876-b988-6e15a8930492",
   "metadata": {},
   "outputs": [],
   "source": [
    "# agg_features.nunique()"
   ]
  },
  {
   "cell_type": "code",
   "execution_count": 76,
   "id": "fa3bb0ea-dcdb-4eed-b5db-fd301c3dc5cd",
   "metadata": {},
   "outputs": [],
   "source": [
    "# df=df.merge(agg_features,on='time')"
   ]
  },
  {
   "cell_type": "code",
   "execution_count": 77,
   "id": "6a2280be-bdf8-4c14-a3d9-1eece2031965",
   "metadata": {},
   "outputs": [
    {
     "data": {
      "text/plain": [
       "command_address          0\n",
       "response_address         0\n",
       "response_memory          0\n",
       "command_memory_count     0\n",
       "response_memory_count    0\n",
       "comm_write_fun           0\n",
       "resp_write_fun           0\n",
       "sub_function             0\n",
       "resp_length              0\n",
       "HH                       0\n",
       "'H'                      0\n",
       "'L'                      0\n",
       "LL                       0\n",
       "control_mode             0\n",
       "pump                     0\n",
       "crc_rate                 0\n",
       "measurement              0\n",
       "time                     0\n",
       "result                   0\n",
       "dtype: int64"
      ]
     },
     "execution_count": 77,
     "metadata": {},
     "output_type": "execute_result"
    }
   ],
   "source": [
    "df.isna().sum()"
   ]
  },
  {
   "cell_type": "code",
   "execution_count": 78,
   "id": "1b118ccb-f634-4899-8489-e400a64e6b19",
   "metadata": {},
   "outputs": [],
   "source": [
    "# features selection\n",
    "features = []\n",
    "for col in df.columns:\n",
    "    if len(df[col].unique()) != 1 and col != 'result':\n",
    "        features.append(col)"
   ]
  },
  {
   "cell_type": "code",
   "execution_count": 79,
   "id": "506d6b03-ad93-423e-a2a1-5070f0ef33b8",
   "metadata": {},
   "outputs": [],
   "source": [
    "df['mean'] = df[features].mean(axis=1)\n",
    "df['median'] = df[features].mean(axis=1)\n",
    "df['max'] = df[features].max(axis=1)\n",
    "df['min'] = df[features].min(axis=1)\n",
    "features.extend(['mean','median','max', 'min'])"
   ]
  },
  {
   "cell_type": "code",
   "execution_count": 80,
   "id": "029d11cd-1500-445d-afd6-699ca2419675",
   "metadata": {},
   "outputs": [
    {
     "data": {
      "text/html": [
       "<div>\n",
       "<style scoped>\n",
       "    .dataframe tbody tr th:only-of-type {\n",
       "        vertical-align: middle;\n",
       "    }\n",
       "\n",
       "    .dataframe tbody tr th {\n",
       "        vertical-align: top;\n",
       "    }\n",
       "\n",
       "    .dataframe thead th {\n",
       "        text-align: right;\n",
       "    }\n",
       "</style>\n",
       "<table border=\"1\" class=\"dataframe\">\n",
       "  <thead>\n",
       "    <tr style=\"text-align: right;\">\n",
       "      <th></th>\n",
       "      <th>command_address</th>\n",
       "      <th>response_address</th>\n",
       "      <th>response_memory</th>\n",
       "      <th>command_memory_count</th>\n",
       "      <th>response_memory_count</th>\n",
       "      <th>comm_write_fun</th>\n",
       "      <th>resp_write_fun</th>\n",
       "      <th>sub_function</th>\n",
       "      <th>resp_length</th>\n",
       "      <th>HH</th>\n",
       "      <th>'H'</th>\n",
       "      <th>'L'</th>\n",
       "      <th>LL</th>\n",
       "      <th>control_mode</th>\n",
       "      <th>pump</th>\n",
       "      <th>crc_rate</th>\n",
       "      <th>measurement</th>\n",
       "      <th>time</th>\n",
       "      <th>result</th>\n",
       "      <th>mean</th>\n",
       "      <th>median</th>\n",
       "      <th>max</th>\n",
       "      <th>min</th>\n",
       "    </tr>\n",
       "  </thead>\n",
       "  <tbody>\n",
       "    <tr>\n",
       "      <th>0</th>\n",
       "      <td>7.000000</td>\n",
       "      <td>7.000000</td>\n",
       "      <td>233.000000</td>\n",
       "      <td>9.000000</td>\n",
       "      <td>10.000000</td>\n",
       "      <td>10.000000</td>\n",
       "      <td>10.000000</td>\n",
       "      <td>0.000000</td>\n",
       "      <td>21.000000</td>\n",
       "      <td>90.000000</td>\n",
       "      <td>80.000000</td>\n",
       "      <td>20.000000</td>\n",
       "      <td>10.000000</td>\n",
       "      <td>2.000000</td>\n",
       "      <td>0.000000</td>\n",
       "      <td>1.000000</td>\n",
       "      <td>85.758957</td>\n",
       "      <td>1.000000</td>\n",
       "      <td>0</td>\n",
       "      <td>33.153275</td>\n",
       "      <td>33.153275</td>\n",
       "      <td>233.000000</td>\n",
       "      <td>0.000000</td>\n",
       "    </tr>\n",
       "    <tr>\n",
       "      <th>1</th>\n",
       "      <td>7.000000</td>\n",
       "      <td>7.000000</td>\n",
       "      <td>233.000000</td>\n",
       "      <td>9.000000</td>\n",
       "      <td>10.000000</td>\n",
       "      <td>10.000000</td>\n",
       "      <td>10.000000</td>\n",
       "      <td>0.000000</td>\n",
       "      <td>21.000000</td>\n",
       "      <td>90.000000</td>\n",
       "      <td>80.000000</td>\n",
       "      <td>20.000000</td>\n",
       "      <td>10.000000</td>\n",
       "      <td>2.000000</td>\n",
       "      <td>0.000000</td>\n",
       "      <td>1.000000</td>\n",
       "      <td>85.673676</td>\n",
       "      <td>1.070000</td>\n",
       "      <td>0</td>\n",
       "      <td>33.152428</td>\n",
       "      <td>33.152428</td>\n",
       "      <td>233.000000</td>\n",
       "      <td>0.000000</td>\n",
       "    </tr>\n",
       "    <tr>\n",
       "      <th>2</th>\n",
       "      <td>7.000000</td>\n",
       "      <td>7.000000</td>\n",
       "      <td>233.000000</td>\n",
       "      <td>9.000000</td>\n",
       "      <td>10.000000</td>\n",
       "      <td>10.000000</td>\n",
       "      <td>10.000000</td>\n",
       "      <td>0.000000</td>\n",
       "      <td>21.000000</td>\n",
       "      <td>90.000000</td>\n",
       "      <td>80.000000</td>\n",
       "      <td>20.000000</td>\n",
       "      <td>10.000000</td>\n",
       "      <td>2.000000</td>\n",
       "      <td>0.000000</td>\n",
       "      <td>1.000000</td>\n",
       "      <td>85.616829</td>\n",
       "      <td>1.160000</td>\n",
       "      <td>0</td>\n",
       "      <td>33.154266</td>\n",
       "      <td>33.154266</td>\n",
       "      <td>233.000000</td>\n",
       "      <td>0.000000</td>\n",
       "    </tr>\n",
       "    <tr>\n",
       "      <th>3</th>\n",
       "      <td>7.000000</td>\n",
       "      <td>7.000000</td>\n",
       "      <td>233.000000</td>\n",
       "      <td>9.000000</td>\n",
       "      <td>10.000000</td>\n",
       "      <td>10.000000</td>\n",
       "      <td>10.000000</td>\n",
       "      <td>0.000000</td>\n",
       "      <td>21.000000</td>\n",
       "      <td>90.000000</td>\n",
       "      <td>80.000000</td>\n",
       "      <td>20.000000</td>\n",
       "      <td>10.000000</td>\n",
       "      <td>2.000000</td>\n",
       "      <td>0.000000</td>\n",
       "      <td>1.000000</td>\n",
       "      <td>85.559975</td>\n",
       "      <td>1.100000</td>\n",
       "      <td>0</td>\n",
       "      <td>33.147778</td>\n",
       "      <td>33.147778</td>\n",
       "      <td>233.000000</td>\n",
       "      <td>0.000000</td>\n",
       "    </tr>\n",
       "    <tr>\n",
       "      <th>4</th>\n",
       "      <td>7.000000</td>\n",
       "      <td>7.000000</td>\n",
       "      <td>233.000000</td>\n",
       "      <td>9.000000</td>\n",
       "      <td>10.000000</td>\n",
       "      <td>10.000000</td>\n",
       "      <td>10.000000</td>\n",
       "      <td>0.000000</td>\n",
       "      <td>21.000000</td>\n",
       "      <td>90.000000</td>\n",
       "      <td>80.000000</td>\n",
       "      <td>20.000000</td>\n",
       "      <td>10.000000</td>\n",
       "      <td>2.000000</td>\n",
       "      <td>0.000000</td>\n",
       "      <td>1.000000</td>\n",
       "      <td>85.474701</td>\n",
       "      <td>1.150000</td>\n",
       "      <td>0</td>\n",
       "      <td>33.145821</td>\n",
       "      <td>33.145821</td>\n",
       "      <td>233.000000</td>\n",
       "      <td>0.000000</td>\n",
       "    </tr>\n",
       "  </tbody>\n",
       "</table>\n",
       "</div>"
      ],
      "text/plain": [
       "   command_address  response_address  response_memory  command_memory_count  \\\n",
       "0         7.000000          7.000000       233.000000              9.000000   \n",
       "1         7.000000          7.000000       233.000000              9.000000   \n",
       "2         7.000000          7.000000       233.000000              9.000000   \n",
       "3         7.000000          7.000000       233.000000              9.000000   \n",
       "4         7.000000          7.000000       233.000000              9.000000   \n",
       "\n",
       "   response_memory_count  comm_write_fun  resp_write_fun  sub_function  \\\n",
       "0              10.000000       10.000000       10.000000      0.000000   \n",
       "1              10.000000       10.000000       10.000000      0.000000   \n",
       "2              10.000000       10.000000       10.000000      0.000000   \n",
       "3              10.000000       10.000000       10.000000      0.000000   \n",
       "4              10.000000       10.000000       10.000000      0.000000   \n",
       "\n",
       "   resp_length        HH       'H'       'L'        LL  control_mode     pump  \\\n",
       "0    21.000000 90.000000 80.000000 20.000000 10.000000      2.000000 0.000000   \n",
       "1    21.000000 90.000000 80.000000 20.000000 10.000000      2.000000 0.000000   \n",
       "2    21.000000 90.000000 80.000000 20.000000 10.000000      2.000000 0.000000   \n",
       "3    21.000000 90.000000 80.000000 20.000000 10.000000      2.000000 0.000000   \n",
       "4    21.000000 90.000000 80.000000 20.000000 10.000000      2.000000 0.000000   \n",
       "\n",
       "   crc_rate  measurement     time  result      mean    median        max  \\\n",
       "0  1.000000    85.758957 1.000000       0 33.153275 33.153275 233.000000   \n",
       "1  1.000000    85.673676 1.070000       0 33.152428 33.152428 233.000000   \n",
       "2  1.000000    85.616829 1.160000       0 33.154266 33.154266 233.000000   \n",
       "3  1.000000    85.559975 1.100000       0 33.147778 33.147778 233.000000   \n",
       "4  1.000000    85.474701 1.150000       0 33.145821 33.145821 233.000000   \n",
       "\n",
       "       min  \n",
       "0 0.000000  \n",
       "1 0.000000  \n",
       "2 0.000000  \n",
       "3 0.000000  \n",
       "4 0.000000  "
      ]
     },
     "execution_count": 80,
     "metadata": {},
     "output_type": "execute_result"
    }
   ],
   "source": [
    "df.head()"
   ]
  },
  {
   "cell_type": "code",
   "execution_count": 81,
   "id": "53cfff03-75df-4ba6-88ba-d89f6bebd244",
   "metadata": {},
   "outputs": [],
   "source": [
    "cat_cols = []\n",
    "for col in features:\n",
    "    if len(df[col].unique()) < 10:\n",
    "        cat_cols.append(col)\n",
    "    # print(col)"
   ]
  },
  {
   "cell_type": "code",
   "execution_count": 82,
   "id": "fccf379a-cbca-47ed-8165-5e522f810532",
   "metadata": {},
   "outputs": [],
   "source": [
    "num_cols = [col for col in features\n",
    "                   if col not in cat_cols]"
   ]
  },
  {
   "cell_type": "markdown",
   "id": "4ef52499-f74f-493d-8ad2-9de9c169b84a",
   "metadata": {},
   "source": [
    "## Label Encoder"
   ]
  },
  {
   "cell_type": "code",
   "execution_count": 83,
   "id": "b287c007-bff1-4cbc-98a3-fdf49ba1990b",
   "metadata": {},
   "outputs": [],
   "source": [
    "from sklearn.preprocessing import LabelEncoder\n",
    "le = LabelEncoder() "
   ]
  },
  {
   "cell_type": "code",
   "execution_count": 84,
   "id": "e23aef09-c79b-4c31-879f-be99a4cc9a72",
   "metadata": {},
   "outputs": [],
   "source": [
    "for col in cat_cols:\n",
    "    df.loc[:, col] = le.fit_transform(df[col].values)"
   ]
  },
  {
   "cell_type": "code",
   "execution_count": 85,
   "id": "c6e41dc0-2f59-4cb8-865a-75f893780fd4",
   "metadata": {},
   "outputs": [],
   "source": [
    "# optional\n",
    "for col in features:\n",
    "    df[col] = df[col] + 1"
   ]
  },
  {
   "cell_type": "markdown",
   "id": "6602d2bc-1eec-46b3-97af-046854d188ff",
   "metadata": {},
   "source": [
    "## Correlation"
   ]
  },
  {
   "cell_type": "code",
   "execution_count": 86,
   "id": "129f3e43-28bf-46de-ba69-3fd11820a6a3",
   "metadata": {},
   "outputs": [],
   "source": [
    "mat = df[features + ['result']].corr()"
   ]
  },
  {
   "cell_type": "code",
   "execution_count": 87,
   "id": "a6d37a53-f3a4-4779-b4f4-cd2cd7526040",
   "metadata": {},
   "outputs": [
    {
     "name": "stdout",
     "output_type": "stream",
     "text": [
      "response_address\n",
      "response_memory\n",
      "command_memory_count\n",
      "response_memory_count\n",
      "comm_write_fun\n",
      "resp_write_fun\n",
      "sub_function\n",
      "resp_length\n",
      "HH\n",
      "'H'\n",
      "control_mode\n",
      "crc_rate\n",
      "time\n"
     ]
    }
   ],
   "source": [
    "imp_cols = []\n",
    "for val, col in enumerate(mat.result):\n",
    "    if ((col >= 0.1 or col <= -0.1) and val != len(mat.result)-1):\n",
    "        # imp_cols.append(val)\n",
    "        print(features[val])\n",
    "        imp_cols.append(features[val])"
   ]
  },
  {
   "cell_type": "code",
   "execution_count": 88,
   "id": "d5a5bad7-0ef4-4a82-9baa-cb22d4bcf0a5",
   "metadata": {},
   "outputs": [],
   "source": [
    "# from sklearn.preprocessing import SplineTransformer\n",
    "# spline = SplineTransformer(degree=2, n_knots=3)\n",
    "# X = spline.fit_transform(df[num_cols])"
   ]
  },
  {
   "cell_type": "code",
   "execution_count": 89,
   "id": "cf7c5a02-62b7-48f8-b497-c9b6296119e8",
   "metadata": {},
   "outputs": [],
   "source": [
    "# X = pd.DataFrame(X)"
   ]
  },
  {
   "cell_type": "code",
   "execution_count": 90,
   "id": "3602e9bc-18bc-4f70-954d-5648a8fc6b2b",
   "metadata": {},
   "outputs": [],
   "source": [
    "# X.head()"
   ]
  },
  {
   "cell_type": "markdown",
   "id": "f01004cb-9c76-4fdf-9ab2-37678f97b848",
   "metadata": {},
   "source": [
    "## Target Encoding"
   ]
  },
  {
   "cell_type": "markdown",
   "id": "60a74593-4e9d-4f7a-9b61-7f01fbcc6ac4",
   "metadata": {},
   "source": [
    "## Stratified K-Fold"
   ]
  },
  {
   "cell_type": "code",
   "execution_count": 91,
   "id": "4dc339c2-6b88-49e3-a75b-96e3b073d77b",
   "metadata": {},
   "outputs": [],
   "source": [
    "# from pycaret.classification import *"
   ]
  },
  {
   "cell_type": "code",
   "execution_count": 92,
   "id": "d0d15332-1761-4004-a72e-2552571eda03",
   "metadata": {},
   "outputs": [],
   "source": [
    "# clf1 = setup(data = df, \n",
    "#              target = 'result',\n",
    "#             use_gpu=True)"
   ]
  },
  {
   "cell_type": "code",
   "execution_count": 93,
   "id": "da998194-a2ad-4ab2-85da-71c752a0b186",
   "metadata": {},
   "outputs": [],
   "source": [
    "# best = compare_models()"
   ]
  },
  {
   "cell_type": "markdown",
   "id": "fd9a4d5d-875a-4a62-9072-832767181af6",
   "metadata": {},
   "source": [
    "# Models"
   ]
  },
  {
   "cell_type": "code",
   "execution_count": 94,
   "id": "f34c8831-094b-4dd1-b9d9-c39e6a3f3a8c",
   "metadata": {},
   "outputs": [],
   "source": [
    "from sklearn.neighbors import KNeighborsClassifier\n",
    "from sklearn.tree import DecisionTreeClassifier\n",
    "from sklearn.ensemble import RandomForestClassifier, AdaBoostClassifier\n",
    "from sklearn.naive_bayes import GaussianNB\n",
    "from sklearn.discriminant_analysis import QuadraticDiscriminantAnalysis\n",
    "from sklearn.neural_network import MLPClassifier\n",
    "from sklearn.svm import SVC\n",
    "from sklearn.gaussian_process import GaussianProcessClassifier\n",
    "from sklearn.gaussian_process.kernels import RBF\n",
    "from sklearn.ensemble import ExtraTreesClassifier\n",
    "from lightgbm import LGBMClassifier as lgbm\n",
    "from xgboost import XGBClassifier\n",
    "from catboost import CatBoostClassifier\n",
    "from sklearn.naive_bayes import MultinomialNB\n",
    "from sklearn.ensemble import VotingClassifier"
   ]
  },
  {
   "cell_type": "code",
   "execution_count": 95,
   "id": "fca9915d-ed86-48d8-8d5d-7b8b372e5426",
   "metadata": {},
   "outputs": [],
   "source": [
    "def eval_acc(model, x, y):\n",
    "    cv = StratifiedKFold(n_splits = 5, shuffle=True, random_state = 42)\n",
    "    scores = cross_val_score(model, x, y, scoring='roc_auc_ovo', cv=cv, n_jobs=-1)\n",
    "    return scores"
   ]
  },
  {
   "cell_type": "code",
   "execution_count": 96,
   "id": "b1a7797d-12fa-42c2-9637-7a79574120d4",
   "metadata": {},
   "outputs": [],
   "source": [
    "knn = KNeighborsClassifier()\n",
    "dt = DecisionTreeClassifier()\n",
    "cb = CatBoostClassifier()\n",
    "xg = XGBClassifier()\n",
    "# .RandomForestClassifier(n_estimators=100, *, criterion='gini', \n",
    "# max_depth=None, min_samples_split=2, min_samples_leaf=1, min_weight_fraction_leaf=0.0, \n",
    "# max_features='auto', max_leaf_nodes=None, min_impurity_decrease=0.0, bootstrap=True, oob_score=False, n_jobs=None, \n",
    "# random_state=None, verbose=0, warm_start=False, class_weight=None, ccp_alpha=0.0, max_samples=None)\n",
    "rf = RandomForestClassifier()\n",
    "adb = AdaBoostClassifier()\n",
    "# nb = GaussianNB()\n",
    "# qda = QuadraticDiscriminantAnalysis()\n",
    "et = ExtraTreesClassifier()\n",
    "lg = lgbm()\n",
    "# mlb = MultinomialNB()\n",
    "# mlp = MLPClassifier()\n",
    "# svm = SVC()\n",
    "# rbf = RBF()"
   ]
  },
  {
   "cell_type": "code",
   "execution_count": 97,
   "id": "937b9d29-c527-4649-9346-25a637f8a6b3",
   "metadata": {},
   "outputs": [],
   "source": [
    "# models = [knn, dt, rf, adb, nb, qda, et, mlp, svm]\n",
    "# models = [knn, dt, adb, et, lg, rf]\n",
    "models = [et, lg, rf]\n",
    "# models = [cb, xg, rf]"
   ]
  },
  {
   "cell_type": "code",
   "execution_count": 98,
   "id": "cfcd8008-6fdc-4d89-983f-666ec81f2097",
   "metadata": {},
   "outputs": [],
   "source": [
    "x = df[features]\n",
    "y = df.result"
   ]
  },
  {
   "cell_type": "code",
   "execution_count": 99,
   "id": "ff81466b-2623-4972-92a1-3e8893d50afc",
   "metadata": {},
   "outputs": [],
   "source": [
    "w0, w1, w2 =1,1,1"
   ]
  },
  {
   "cell_type": "code",
   "execution_count": 100,
   "id": "902f2c32-fd7f-474e-86c1-31bb083f816a",
   "metadata": {},
   "outputs": [],
   "source": [
    "import gc\n",
    "estimator_list = np.arange(100, 1500, 100)\n",
    "seeds = [69420, 42, 69, 666]\n",
    "scores = pd.DataFrame()"
   ]
  },
  {
   "cell_type": "code",
   "execution_count": 101,
   "id": "519a2873-a9d9-444e-9a3d-6aed225cae82",
   "metadata": {},
   "outputs": [],
   "source": [
    "from sklearn.model_selection import train_test_split\n",
    "xtrain, xtest, ytrain, ytest = train_test_split(x,y, test_size=0.2, random_state=42)"
   ]
  },
  {
   "cell_type": "code",
   "execution_count": 102,
   "id": "6d83b3ff-b4ec-4c88-b2f8-f924ebb31f6c",
   "metadata": {},
   "outputs": [
    {
     "name": "stdout",
     "output_type": "stream",
     "text": [
      "ExtraTreesClassifier()\t\t0.9893429500408247\n",
      "LGBMClassifier()\t\t0.9970106195482445\n",
      "RandomForestClassifier()\t\t0.9927427638607783\n"
     ]
    }
   ],
   "source": [
    "w = []\n",
    "for m in models:\n",
    "    z = np.mean(eval_acc(m, xtrain, ytrain))\n",
    "    print(str(m) + '\\t\\t' + str(z))\n",
    "    w.append(z)"
   ]
  },
  {
   "cell_type": "code",
   "execution_count": 103,
   "id": "0554d51b-97f0-44b6-bc79-d87fd5006d6a",
   "metadata": {},
   "outputs": [
    {
     "name": "stdout",
     "output_type": "stream",
     "text": [
      "yes2\n"
     ]
    }
   ],
   "source": [
    "if w[0] > w[1] and w[0] > w[2]:\n",
    "    w0 = 3\n",
    "    if w[1] > w[2]:\n",
    "        w1 = 2\n",
    "        w2 = 1\n",
    "    else:\n",
    "        w2 = 2\n",
    "        w1 = 1\n",
    "    print('yes1')\n",
    "elif w[1] > w[0] and w[1] > w[2]:\n",
    "    w1 = 3\n",
    "    if w[0] > w[2]:\n",
    "        w0 = 2\n",
    "        w2 = 1\n",
    "    else:\n",
    "        w2 = 2\n",
    "        w0 = 1\n",
    "    print('yes2')\n",
    "elif w[2] > w[1] and w[2] > w[0]:\n",
    "    w2 = 3\n",
    "    if w[1] > w[0]:\n",
    "        w1 = 2\n",
    "        w0 = 1\n",
    "    else:\n",
    "        w0 = 2\n",
    "        w1 = 1\n",
    "    print('yes3')"
   ]
  },
  {
   "cell_type": "code",
   "execution_count": 104,
   "id": "9ce365ab-8f17-49c4-afa6-d0be46e3998d",
   "metadata": {},
   "outputs": [
    {
     "name": "stdout",
     "output_type": "stream",
     "text": [
      "1 3 2\n"
     ]
    }
   ],
   "source": [
    "print(w0, w1, w2)"
   ]
  },
  {
   "cell_type": "code",
   "execution_count": 105,
   "id": "69bf9e98-e1f4-425e-9e10-918c45c24ce9",
   "metadata": {},
   "outputs": [
    {
     "data": {
      "image/png": "[encoded data removed]",
      "text/plain": [
       "<Figure size 864x720 with 1 Axes>"
      ]
     },
     "metadata": {
      "needs_background": "light"
     },
     "output_type": "display_data"
    }
   ],
   "source": [
    "rf.fit(xtrain, ytrain)\n",
    "importances = rf.feature_importances_\n",
    "plt.figure(figsize=(12,10))\n",
    "idxs = np.argsort(importances)\n",
    "plt.title('Feature Importances')\n",
    "plt.barh(range(len(idxs)), importances[idxs], align='center')\n",
    "plt.yticks(range(len(idxs)), [features[i] for i in idxs])\n",
    "plt.xlabel('Random Forest Feature Importance')\n",
    "plt.show()"
   ]
  },
  {
   "cell_type": "code",
   "execution_count": 106,
   "id": "e523d208-0796-49d3-bff8-ce94607789a6",
   "metadata": {},
   "outputs": [],
   "source": [
    "imp = []\n",
    "for i in idxs:\n",
    "    if importances[i] != 0:\n",
    "        imp.append([importances[i], features[i]])\n",
    "imp.sort(reverse=True)\n",
    "s1 = imp"
   ]
  },
  {
   "cell_type": "code",
   "execution_count": 107,
   "id": "3736411a-da2b-45a1-9457-04a9de2c0bea",
   "metadata": {},
   "outputs": [
    {
     "data": {
      "image/png": "[encoded data removed]",
      "text/plain": [
       "<Figure size 864x720 with 1 Axes>"
      ]
     },
     "metadata": {
      "needs_background": "light"
     },
     "output_type": "display_data"
    }
   ],
   "source": [
    "lg.fit(xtrain, ytrain)\n",
    "importances = lg.feature_importances_\n",
    "plt.figure(figsize=(12,10))\n",
    "idxs = np.argsort(importances)\n",
    "plt.title('Feature Importances')\n",
    "plt.barh(range(len(idxs)), importances[idxs], align='center')\n",
    "plt.yticks(range(len(idxs)), [features[i] for i in idxs])\n",
    "plt.xlabel('Random Forest Feature Importance')\n",
    "plt.show()"
   ]
  },
  {
   "cell_type": "code",
   "execution_count": 108,
   "id": "e2c460a4-eaea-4345-a098-c97a4cb2cb3c",
   "metadata": {},
   "outputs": [],
   "source": [
    "imp = []\n",
    "for i in idxs:\n",
    "    if importances[i] != 0:\n",
    "        imp.append([importances[i], features[i]])\n",
    "imp.sort(reverse=True)\n",
    "s2 = imp"
   ]
  },
  {
   "cell_type": "code",
   "execution_count": 109,
   "id": "dad615c7-659d-4414-84a0-4f5bda7b48e2",
   "metadata": {},
   "outputs": [
    {
     "data": {
      "image/png": "[encoded data removed]",
      "text/plain": [
       "<Figure size 864x720 with 1 Axes>"
      ]
     },
     "metadata": {
      "needs_background": "light"
     },
     "output_type": "display_data"
    }
   ],
   "source": [
    "et.fit(xtrain, ytrain)\n",
    "importances = et.feature_importances_\n",
    "plt.figure(figsize=(12,10))\n",
    "idxs = np.argsort(importances)\n",
    "plt.title('Feature Importances')\n",
    "plt.barh(range(len(idxs)), importances[idxs], align='center')\n",
    "plt.yticks(range(len(idxs)), [features[i] for i in idxs])\n",
    "plt.xlabel('Random Forest Feature Importance')\n",
    "plt.show()"
   ]
  },
  {
   "cell_type": "code",
   "execution_count": 110,
   "id": "884aaac8-ad62-4f2e-994a-ca2181003825",
   "metadata": {},
   "outputs": [],
   "source": [
    "imp = []\n",
    "for i in idxs:\n",
    "    if importances[i] != 0:\n",
    "        imp.append([importances[i], features[i]])\n",
    "imp.sort(reverse=True)\n",
    "s3 = imp"
   ]
  },
  {
   "cell_type": "code",
   "execution_count": 111,
   "id": "386f22c1-a488-4f92-892c-dded7a81d4b8",
   "metadata": {},
   "outputs": [],
   "source": [
    "d1 = pd.DataFrame(s1)\n",
    "d2 = pd.DataFrame(s2)\n",
    "d3 = pd.DataFrame(s3)"
   ]
  },
  {
   "cell_type": "code",
   "execution_count": 112,
   "id": "4ab40c95-caf6-460b-9e9e-7dc100fca8e6",
   "metadata": {},
   "outputs": [],
   "source": [
    "s1 = set(d1[1])\n",
    "s2 = set(d2[1])\n",
    "s3 = set(d3[1])"
   ]
  },
  {
   "cell_type": "code",
   "execution_count": 113,
   "id": "a620c8f3-1546-41ad-bdb9-2e83750a35cf",
   "metadata": {},
   "outputs": [],
   "source": [
    "# s1"
   ]
  },
  {
   "cell_type": "code",
   "execution_count": 114,
   "id": "9b09f73a-c611-453b-8d60-55a5c716f381",
   "metadata": {},
   "outputs": [
    {
     "name": "stdout",
     "output_type": "stream",
     "text": [
      "{'crc_rate', 'comm_write_fun', \"'H'\", 'response_address', 'pump', 'measurement', 'LL', \"'L'\", 'HH', 'mean', 'time', 'control_mode', 'min', 'sub_function', 'command_address', 'resp_length', 'max'}\n"
     ]
    }
   ],
   "source": [
    "# s1 = set(s1)\n",
    "# s2 = set(s2)\n",
    "# s3 = set(s3)\n",
    "col_imp = s1.intersection(s2,s3)\n",
    "print(col_imp)"
   ]
  },
  {
   "cell_type": "code",
   "execution_count": 115,
   "id": "49082f5c-7145-4cb9-bac2-71b846bca8c9",
   "metadata": {},
   "outputs": [
    {
     "data": {
      "text/plain": [
       "17"
      ]
     },
     "execution_count": 115,
     "metadata": {},
     "output_type": "execute_result"
    }
   ],
   "source": [
    "len(col_imp)"
   ]
  },
  {
   "cell_type": "code",
   "execution_count": 116,
   "id": "6ce6e603-29ca-44d3-a669-7080926ac98e",
   "metadata": {},
   "outputs": [],
   "source": [
    "# xtrain = xtrain[col_imp]\n",
    "# xtest = xtest[col_imp]"
   ]
  },
  {
   "cell_type": "code",
   "execution_count": 130,
   "id": "c2f88661-beee-4f11-b8fd-9854abd377e9",
   "metadata": {},
   "outputs": [],
   "source": [
    "eclf = VotingClassifier(estimators=[('et', et), ('lg', lg), ('rf', rf)], voting='soft', weights=[w0, w1, w2])\n",
    "# eclf = VotingClassifier(estimators=[('cb', cb), ('xg', xg), ('rf', rf)], voting='soft', weights=[w0, w1, w2])"
   ]
  },
  {
   "cell_type": "code",
   "execution_count": 131,
   "id": "c8ccd1ce-4b4a-4e7d-a076-1062ccdb590d",
   "metadata": {},
   "outputs": [
    {
     "data": {
      "text/plain": [
       "(21759, 22)"
      ]
     },
     "execution_count": 131,
     "metadata": {},
     "output_type": "execute_result"
    }
   ],
   "source": [
    "xtrain.shape"
   ]
  },
  {
   "cell_type": "code",
   "execution_count": 132,
   "id": "af3ec7f6-ba39-4081-b7ee-b874ac0a3436",
   "metadata": {},
   "outputs": [],
   "source": [
    "from sklearn.metrics import classification_report\n",
    "# from sklearn.feature_selection import chi2, f_classif\n",
    "# from sklearn.feature_selection import SelectKBest"
   ]
  },
  {
   "cell_type": "code",
   "execution_count": 133,
   "id": "6d45c723-8aa3-4406-9eab-e8baa13949f2",
   "metadata": {},
   "outputs": [
    {
     "data": {
      "text/plain": [
       "VotingClassifier(estimators=[('et', ExtraTreesClassifier()),\n",
       "                             ('lg', LGBMClassifier()),\n",
       "                             ('rf', RandomForestClassifier())],\n",
       "                 voting='soft', weights=[1, 3, 2])"
      ]
     },
     "execution_count": 133,
     "metadata": {},
     "output_type": "execute_result"
    }
   ],
   "source": [
    "eclf.fit(xtrain,ytrain)"
   ]
  },
  {
   "cell_type": "code",
   "execution_count": 134,
   "id": "58206a0e-d24b-4dc9-a1de-33550288f5d9",
   "metadata": {},
   "outputs": [],
   "source": [
    "ypred = eclf.predict(xtest)"
   ]
  },
  {
   "cell_type": "code",
   "execution_count": 135,
   "id": "8afaaf71-4d04-488c-8b6f-a13932cfd6f1",
   "metadata": {},
   "outputs": [
    {
     "name": "stdout",
     "output_type": "stream",
     "text": [
      "              precision    recall  f1-score   support\n",
      "\n",
      "           0       0.98      0.97      0.98      3897\n",
      "           1       0.98      0.97      0.97       234\n",
      "           2       0.70      0.77      0.73       298\n",
      "           3       0.97      1.00      0.99        38\n",
      "           4       1.00      0.99      0.99        82\n",
      "           5       1.00      1.00      1.00        25\n",
      "           6       1.00      0.94      0.97        31\n",
      "           7       1.00      1.00      1.00       835\n",
      "\n",
      "    accuracy                           0.97      5440\n",
      "   macro avg       0.95      0.95      0.95      5440\n",
      "weighted avg       0.97      0.97      0.97      5440\n",
      "\n"
     ]
    }
   ],
   "source": [
    "print(classification_report(ytest, ypred))"
   ]
  },
  {
   "cell_type": "code",
   "execution_count": 136,
   "id": "7af072ad-c336-4253-862a-4c1c65a83491",
   "metadata": {},
   "outputs": [],
   "source": [
    "from sklearn.metrics import accuracy_score\n",
    "from sklearn.metrics import roc_auc_score"
   ]
  },
  {
   "cell_type": "code",
   "execution_count": 137,
   "id": "4926c2bc-e9fb-4f02-a564-b8c695168a68",
   "metadata": {},
   "outputs": [
    {
     "name": "stdout",
     "output_type": "stream",
     "text": [
      "0.9661764705882353\n"
     ]
    }
   ],
   "source": [
    "print(accuracy_score(ytest, ypred))"
   ]
  },
  {
   "cell_type": "code",
   "execution_count": 138,
   "id": "34148f05-6c91-4b08-b588-c9b4fccaf3f0",
   "metadata": {},
   "outputs": [
    {
     "name": "stdout",
     "output_type": "stream",
     "text": [
      "0.9977564915429701\n"
     ]
    }
   ],
   "source": [
    "print(roc_auc_score(ytest, eclf.predict_proba(xtest),multi_class='ovo'))"
   ]
  },
  {
   "cell_type": "code",
   "execution_count": 139,
   "id": "83ddafe6-64f1-4541-b774-4a3878f9dffd",
   "metadata": {},
   "outputs": [
    {
     "name": "stdout",
     "output_type": "stream",
     "text": [
      "0.9943706478236508\n",
      "0.997426017979934\n",
      "0.9905405048205393\n"
     ]
    }
   ],
   "source": [
    "print(roc_auc_score(ytest, rf.predict_proba(xtest),multi_class='ovo'))\n",
    "print(roc_auc_score(ytest, lg.predict_proba(xtest),multi_class='ovo'))\n",
    "print(roc_auc_score(ytest, et.predict_proba(xtest),multi_class='ovo'))"
   ]
  },
  {
   "cell_type": "code",
   "execution_count": 140,
   "id": "b26bd1e5-879a-4df7-9cda-c8d423b26e4d",
   "metadata": {},
   "outputs": [
    {
     "name": "stdout",
     "output_type": "stream",
     "text": [
      "0.9693014705882353\n",
      "0.9636029411764706\n",
      "0.9630514705882353\n"
     ]
    }
   ],
   "source": [
    "print(accuracy_score(ytest, rf.predict(xtest)))\n",
    "print(accuracy_score(ytest, lg.predict(xtest)))\n",
    "print(accuracy_score(ytest, et.predict(xtest)))"
   ]
  },
  {
   "cell_type": "code",
   "execution_count": 141,
   "id": "33a4e06f-99f6-4d12-8b62-f4db114cccf6",
   "metadata": {},
   "outputs": [
    {
     "data": {
      "text/plain": [
       "12"
      ]
     },
     "execution_count": 141,
     "metadata": {},
     "output_type": "execute_result"
    }
   ],
   "source": [
    "len(cat_cols)"
   ]
  },
  {
   "cell_type": "code",
   "execution_count": 142,
   "id": "457f3586-ac6b-4cee-a083-34ecf61f1e0a",
   "metadata": {},
   "outputs": [
    {
     "data": {
      "image/png": "[encoded data removed]",
      "text/plain": [
       "<Figure size 1440x1080 with 12 Axes>"
      ]
     },
     "metadata": {
      "needs_background": "light"
     },
     "output_type": "display_data"
    }
   ],
   "source": [
    "fig = plt.figure(figsize=(20,15))\n",
    "i = 1\n",
    "for col in cat_cols:\n",
    "    plt.subplot(4,3,i)\n",
    "    sns.countplot(df[col])\n",
    "    plt.xticks(rotation=90)\n",
    "    i += 1\n",
    "# fig.show()\n",
    "\n",
    "plt.savefig('catplots.png')"
   ]
  },
  {
   "cell_type": "code",
   "execution_count": null,
   "id": "49b75489-0289-460e-96cc-470d1f4b64b4",
   "metadata": {},
   "outputs": [],
   "source": []
  }
 ],
 "metadata": {
  "kernelspec": {
   "display_name": "default:Python",
   "language": "python",
   "name": "conda-env-default-py"
  },
  "language_info": {
   "codemirror_mode": {
    "name": "ipython",
    "version": 3
   },
   "file_extension": ".py",
   "mimetype": "text/x-python",
   "name": "python",
   "nbconvert_exporter": "python",
   "pygments_lexer": "ipython3",
   "version": "3.9.7"
  }
 },
 "nbformat": 4,
 "nbformat_minor": 5
}
